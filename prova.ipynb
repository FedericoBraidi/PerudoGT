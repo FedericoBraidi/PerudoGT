{
 "cells": [
  {
   "cell_type": "code",
   "execution_count": 1,
   "metadata": {},
   "outputs": [],
   "source": [
    "from anytree import Node\n",
    "from graphviz import Digraph"
   ]
  },
  {
   "cell_type": "code",
   "execution_count": 33,
   "metadata": {},
   "outputs": [],
   "source": [
    "class PerudoGame:\n",
    "  def __init__(self, max_turns=5):\n",
    "    self.max_turns = max_turns\n",
    "    self.node_counter = 0  # Unique ID for nodes\n",
    "    self.root = Node(\"Start\")  # Root node of the tree\n",
    "\n",
    "  ################################################\n",
    "  \n",
    "  def generate_possible_moves(self, current_bid):\n",
    "    \"\"\"Generate all possible moves from the current bid.\"\"\"\n",
    "    possible_moves = []\n",
    "    current_number, current_value = current_bid\n",
    "\n",
    "    # Increment the number of dice (from 1 to 2)\n",
    "    if current_number < 5:\n",
    "      possible_moves.append((current_number + 1, current_value))\n",
    "\n",
    "    # Increment the value of faces (from 1 to 2)\n",
    "    if current_value < 3:\n",
    "      possible_moves.append((current_number, current_value + 1))\n",
    "\n",
    "    # Add the \"Challenge\" move\n",
    "    possible_moves.append(\"Check\")\n",
    "\n",
    "    return possible_moves\n",
    "\n",
    "  ################################################\n",
    "\n",
    "  def build_complete_tree(self, parent_node, current_bid, turn, graph):\n",
    "    \"\"\"Recursively build the complete move tree with alternating turns.\"\"\"\n",
    "    \n",
    "    # Stop the generation of the branch if challenge or check\n",
    "    if turn > self.max_turns or current_bid == \"Challenge\" or current_bid == \"Check\":\n",
    "      return\n",
    "\n",
    "    # Generate all possible moves for the current player\n",
    "    possible_moves = self.generate_possible_moves(current_bid)\n",
    "    \n",
    "    # For each move create a node an add it to the graph\n",
    "    for move in possible_moves:\n",
    "      self.node_counter += 1\n",
    "      child_label = f\"Turn {turn}: {move}\" if move != \"Challenge\" else f\"Turn {turn}: Challenge\"\n",
    "      child_node_name = f\"Node_{self.node_counter}\"\n",
    "      graph.node(child_node_name, child_label)\n",
    "\n",
    "      # Create an edge between the parent and child node\n",
    "      graph.edge(str(parent_node), child_node_name)\n",
    "\n",
    "      # Recursively build the tree for each move\n",
    "      if move != \"Challenge\" or move != \"Check\":\n",
    "        self.build_complete_tree(child_node_name, move, turn + 1, graph)\n",
    "\n",
    "  ################################################\n",
    "\n",
    "  def visualize_and_save_tree(self, graph, output_file=\"perudo_tree\"):\n",
    "    \"\"\"Render and save the tree\"\"\"\n",
    "    graph.render(output_file, format=\"pdf\", view=True)\n",
    "    print(f\"Tree saved as {output_file}.pdf\")"
   ]
  },
  {
   "cell_type": "code",
   "execution_count": 34,
   "metadata": {},
   "outputs": [
    {
     "name": "stdout",
     "output_type": "stream",
     "text": [
      "Tree saved as perudo_tree.pdf\n"
     ]
    }
   ],
   "source": [
    "game = PerudoGame(max_turns=10)\n",
    "\n",
    "dot = Digraph(comment='Perudo Game Tree')\n",
    "first_move = (1, 1)\n",
    "dot.node(str(game.root), f\"Start: {first_move}\")\n",
    "\n",
    "game.build_complete_tree(game.root, current_bid=first_move, turn=1, graph=dot)\n",
    "game.visualize_and_save_tree(dot, \"perudo_tree\")"
   ]
  }
 ],
 "metadata": {
  "kernelspec": {
   "display_name": "base",
   "language": "python",
   "name": "python3"
  },
  "language_info": {
   "codemirror_mode": {
    "name": "ipython",
    "version": 3
   },
   "file_extension": ".py",
   "mimetype": "text/x-python",
   "name": "python",
   "nbconvert_exporter": "python",
   "pygments_lexer": "ipython3",
   "version": "3.11.5"
  }
 },
 "nbformat": 4,
 "nbformat_minor": 2
}
